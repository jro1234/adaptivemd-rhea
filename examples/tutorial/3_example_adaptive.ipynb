{
 "cells": [
  {
   "cell_type": "markdown",
   "metadata": {},
   "source": [
    "## Tutorial 3 - Sampling with `AdaptiveMD`"
   ]
  },
  {
   "cell_type": "markdown",
   "metadata": {},
   "source": [
    "### Imports"
   ]
  },
  {
   "cell_type": "code",
   "execution_count": 1,
   "metadata": {},
   "outputs": [],
   "source": [
    "from adaptivemd import Project"
   ]
  },
  {
   "cell_type": "markdown",
   "metadata": {},
   "source": [
    "Let's open our `tutorial` project by its name. If you completed the first examples this should all work out of the box."
   ]
  },
  {
   "cell_type": "code",
   "execution_count": 2,
   "metadata": {},
   "outputs": [],
   "source": [
    "project = Project('tutorial')"
   ]
  },
  {
   "cell_type": "markdown",
   "metadata": {},
   "source": [
    "Open all connections to the `MongoDB` and `Session` so we can get started."
   ]
  },
  {
   "cell_type": "markdown",
   "metadata": {},
   "source": [
    "> An interesting thing to note here is, that since we use a DB in the back, data is synced between notebooks. If you want to see how this works, just run some tasks in Tutorial 1 or 2, then come back here and check on the change of the project contents."
   ]
  },
  {
   "cell_type": "markdown",
   "metadata": {},
   "source": [
    "Let's see where we are. These numbers will depend on whether you run this notebook for the first time or just continue again. Unless you delete your project it will accumulate models and files over time, as is our ultimate goal."
   ]
  },
  {
   "cell_type": "code",
   "execution_count": 3,
   "metadata": {},
   "outputs": [
    {
     "name": "stdout",
     "output_type": "stream",
     "text": [
      "<StoredBundle for with 19 file(s) @ 0x1123f3c10>\n",
      "<StoredBundle for with 3 file(s) @ 0x1123f3bd0>\n",
      "<StoredBundle for with 1 file(s) @ 0x1123f3b90>\n"
     ]
    }
   ],
   "source": [
    "print(project.files)\n",
    "print(project.generators)\n",
    "print(project.models)"
   ]
  },
  {
   "cell_type": "markdown",
   "metadata": {},
   "source": [
    "Now restore our old ways to generate tasks by loading the previously used generators."
   ]
  },
  {
   "cell_type": "code",
   "execution_count": 4,
   "metadata": {},
   "outputs": [],
   "source": [
    "engine = project.generators['openmm']\n",
    "modeller = project.generators['pyemma']\n",
    "pdb_file = project.files['initial_pdb']"
   ]
  },
  {
   "cell_type": "markdown",
   "metadata": {},
   "source": [
    "## Run simulations"
   ]
  },
  {
   "cell_type": "markdown",
   "metadata": {},
   "source": [
    "You are free to conduct your simulations from a notebook but normally you will use a script. The main point about adaptivity is to make decision about tasks along the way. \n",
    "\n",
    "To make this happen we need `Conditions` which are functions that evaluate to `True` or `False` and once they are `True` they cannot change anymore back to `False`. Like a one time on switch.\n",
    "\n",
    "These are used to describe the happening of an event. We will now deal with some types of events."
   ]
  },
  {
   "cell_type": "markdown",
   "metadata": {},
   "source": [
    "### Functional Events"
   ]
  },
  {
   "cell_type": "markdown",
   "metadata": {},
   "source": [
    "We want to first look into a way to run python code asynchronously in the project. For this, we write a function that should be executed. Inside you will create tasks and submit them.\n",
    "\n",
    "If the function should pause, write `yield {condition_to_continue}`. This will interrupt your script until the function you return will return `True` when called. An example event function here with different (some equivalent) conditions described:"
   ]
  },
  {
   "cell_type": "code",
   "execution_count": 5,
   "metadata": {},
   "outputs": [],
   "source": [
    "def strategy(loops=10, trajs_per_loop=4, length=100):\n",
    "    for loop in range(loops):\n",
    "        # submit some trajectory tasks\n",
    "        trajectories = project.new_ml_trajectory(engine, length, trajs_per_loop)\n",
    "        tasks = map(engine.run, trajectories)\n",
    "        project.queue(tasks)\n",
    "        \n",
    "        # continue if ALL of the tasks are done (can be failed)\n",
    "        #yield [task.is_done for task in tasks]\n",
    "        #yield lambda: all([task.is_done() for task in tasks])\n",
    "        yield lambda: all(map(lambda task: task.is_done(), tasks))\n",
    "\n",
    "        # how about ANY of the tasks\n",
    "        # --> some won't be included in model\n",
    "        #yield lambda: any(map(lambda task: task.is_done(), tasks))\n",
    "\n",
    "        # LESS smart since tasks might fail, so we'd get the progress\n",
    "        # with task.is_done but not traj.exists\n",
    "        #yield lambda: all(map(lambda tj: tj.exists, trajectories))\n",
    "\n",
    "        # submit an analysis\n",
    "        task = modeller.execute(list(project.trajectories))\n",
    "        project.queue(task)\n",
    "        \n",
    "        # when it is done do next loop\n",
    "        yield task.is_done"
   ]
  },
  {
   "cell_type": "markdown",
   "metadata": {},
   "source": [
    "and add the event to the project (these cannot be stored!)"
   ]
  },
  {
   "cell_type": "markdown",
   "metadata": {},
   "source": [
    "This logical layer is implemented by the class `adaptivemd.Event`\n",
    "and is used to run the strategy function. Here we can see why\n",
    "this function is a generator, and needs to yield functions that\n",
    "return a Boolean value. The blocks between `yield` statements are\n",
    "used to generate the workflow as seen above, and the yielded functions\n",
    "should be used to inspect the state of the workflow.\n",
    "```python\n",
    "done = False\n",
    "proceed = True\n",
    "while not done:\n",
    "    try:\n",
    "        if proceed:\n",
    "            # _next is a function reference\n",
    "            _next_func = next(strategy())\n",
    "            proceed = False\n",
    "\n",
    "        # val is Boolean, returned by _next_func\n",
    "        val = _next_func()\n",
    "\n",
    "        if val is True:\n",
    "            proceed = True\n",
    "\n",
    "        time.sleep(5)\n",
    "\n",
    "    except StopIteration:\n",
    "        done = True\n",
    "```\n",
    "When the strategy has been exhausted, the workflow is done. "
   ]
  },
  {
   "cell_type": "code",
   "execution_count": 6,
   "metadata": {},
   "outputs": [],
   "source": [
    "event = project.add_event(strategy(loops=2))"
   ]
  },
  {
   "cell_type": "markdown",
   "metadata": {},
   "source": [
    "What is missing now? The adding of the event triggered the first part of the code. But to recheck if we should continue needs to be done manually."
   ]
  },
  {
   "cell_type": "markdown",
   "metadata": {},
   "source": [
    "Still that is no problem, we can do that easily and watch what is happening"
   ]
  },
  {
   "cell_type": "markdown",
   "metadata": {},
   "source": [
    "Let's see how our project is growing. TODO: Add threading.Timer to auto trigger."
   ]
  },
  {
   "cell_type": "code",
   "execution_count": 7,
   "metadata": {},
   "outputs": [],
   "source": [
    "import sys, time\n",
    "from IPython.display import clear_output"
   ]
  },
  {
   "cell_type": "markdown",
   "metadata": {},
   "source": [
    "One way to wait for an event is to use a reference to it, returned by the `project.add_event` method. The event objects are a False condition when completed, and True before this."
   ]
  },
  {
   "cell_type": "code",
   "execution_count": 8,
   "metadata": {},
   "outputs": [
    {
     "name": "stdout",
     "output_type": "stream",
     "text": [
      "# of files        16 : ################\n",
      "# of models        3 : ###\n"
     ]
    }
   ],
   "source": [
    "try:\n",
    "    while project._events:\n",
    "        print('# of files  %8d : %s' % (len(project.trajectories), '#' * len(project.trajectories)))\n",
    "        print('# of models %8d : %s' % (len(project.models), '#' * len(project.models)))\n",
    "        sys.stdout.flush()\n",
    "        project.trigger()\n",
    "        time.sleep(3)\n",
    "        clear_output(wait=True)\n",
    "        \n",
    "except KeyboardInterrupt:\n",
    "    pass"
   ]
  },
  {
   "cell_type": "markdown",
   "metadata": {},
   "source": [
    "Let's do another round with more loops. This time we will wait using the project's `events_done` condition. In the prior example, the project is manually triggered until the event is complete. By using `wait_until` method, the project will trigger itself."
   ]
  },
  {
   "cell_type": "code",
   "execution_count": 9,
   "metadata": {},
   "outputs": [],
   "source": [
    "project.add_event(strategy(loops=2))\n",
    "project.wait_until(project.events_done)"
   ]
  },
  {
   "cell_type": "markdown",
   "metadata": {},
   "source": [
    "And some analysis (might have better functions for that)"
   ]
  },
  {
   "cell_type": "code",
   "execution_count": 10,
   "metadata": {},
   "outputs": [],
   "source": [
    "from adaptivemd import File"
   ]
  },
  {
   "cell_type": "code",
   "execution_count": 11,
   "metadata": {},
   "outputs": [
    {
     "name": "stdout",
     "output_type": "stream",
     "text": [
      "file://{}/alanine.pdb : [0, 0, 0]\n",
      "sandbox:///{}/00000011/ : [80]\n",
      "sandbox:///{}/00000006/ : [90, 20, 70, 70]\n",
      "sandbox:///{}/00000019/ : [70, 60]\n",
      "sandbox:///{}/00000001/ : [20, 70]\n",
      "sandbox:///{}/00000013/ : [0]\n",
      "sandbox:///{}/00000009/ : [50]\n",
      "sandbox:///{}/00000008/ : [70]\n",
      "sandbox:///{}/00000015/ : [50, 0]\n",
      "sandbox:///{}/00000004/ : [80, 60]\n",
      "sandbox:///{}/00000000/ : [30, 50, 100, 50, 60]\n"
     ]
    }
   ],
   "source": [
    "# find, which frames from which trajectories have been chosen\n",
    "trajs = project.trajectories\n",
    "q = {}\n",
    "ins = {}\n",
    "for f in trajs:\n",
    "    source = f.frame if isinstance(f.frame, File) else f.frame.trajectory\n",
    "    ind = 0 if isinstance(f.frame, File) else f.frame.index\n",
    "    ins[source] = ins.get(source, []) + [ind]\n",
    "\n",
    "for a,b in ins.iteritems():\n",
    "    print a.short, ':', b"
   ]
  },
  {
   "cell_type": "markdown",
   "metadata": {},
   "source": [
    "### Event"
   ]
  },
  {
   "cell_type": "markdown",
   "metadata": {},
   "source": [
    "And do this with multiple events in parallel."
   ]
  },
  {
   "cell_type": "code",
   "execution_count": 12,
   "metadata": {},
   "outputs": [],
   "source": [
    "def strategy2():\n",
    "    for loop in range(10):\n",
    "        num = len(project.trajectories)\n",
    "        task = modeller.execute(list(project.trajectories))\n",
    "        print(task)\n",
    "        project.queue(task)\n",
    "        yield task.is_done\n",
    "        # continue only when there are at least 2 more trajectories\n",
    "        print(\"Requiring %d trajectories for strategy2 to complete\" % num)\n",
    "        yield project.on_ntraj(num + 2)"
   ]
  },
  {
   "cell_type": "code",
   "execution_count": 18,
   "metadata": {},
   "outputs": [
    {
     "name": "stdout",
     "output_type": "stream",
     "text": [
      "<adaptivemd.task.PythonTask object at 0x112519ad0>\n"
     ]
    },
    {
     "data": {
      "text/plain": [
       "<adaptivemd.plan.ExecutionPlan at 0x112519390>"
      ]
     },
     "execution_count": 18,
     "metadata": {},
     "output_type": "execute_result"
    }
   ],
   "source": [
    "project.add_event(strategy(loops=10, trajs_per_loop=2))\n",
    "project.add_event(strategy2())"
   ]
  },
  {
   "cell_type": "markdown",
   "metadata": {},
   "source": []
  },
  {
   "cell_type": "markdown",
   "metadata": {},
   "source": [
    "See, that we again reused our strategy."
   ]
  },
  {
   "cell_type": "code",
   "execution_count": 19,
   "metadata": {},
   "outputs": [],
   "source": [
    "ev=project._events[0]"
   ]
  },
  {
   "cell_type": "code",
   "execution_count": 21,
   "metadata": {},
   "outputs": [],
   "source": [
    "project._events[0].trigger()"
   ]
  },
  {
   "cell_type": "code",
   "execution_count": 22,
   "metadata": {},
   "outputs": [
    {
     "data": {
      "text/plain": [
       "False"
      ]
     },
     "execution_count": 22,
     "metadata": {},
     "output_type": "execute_result"
    }
   ],
   "source": [
    "project._events[0]._finish_conditions[0]()"
   ]
  },
  {
   "cell_type": "code",
   "execution_count": 23,
   "metadata": {},
   "outputs": [
    {
     "name": "stdout",
     "output_type": "stream",
     "text": [
      "Requiring 44 trajectories for strategy2 to complete\n",
      "<adaptivemd.task.PythonTask object at 0x109d3ca50>\n",
      "Requiring 46 trajectories for strategy2 to complete\n",
      "<adaptivemd.task.PythonTask object at 0x112633390>\n",
      "Requiring 48 trajectories for strategy2 to complete\n",
      "<adaptivemd.task.PythonTask object at 0x112633050>\n",
      "Requiring 50 trajectories for strategy2 to complete\n",
      "<adaptivemd.task.PythonTask object at 0x1125473d0>\n",
      "Requiring 52 trajectories for strategy2 to complete\n",
      "<adaptivemd.task.PythonTask object at 0x112519210>\n",
      "Requiring 54 trajectories for strategy2 to complete\n",
      "<adaptivemd.task.PythonTask object at 0x11262b310>\n",
      "Requiring 56 trajectories for strategy2 to complete\n",
      "<adaptivemd.task.PythonTask object at 0x112617f90>\n",
      "Requiring 58 trajectories for strategy2 to complete\n",
      "<adaptivemd.task.PythonTask object at 0x112543650>\n",
      "Requiring 60 trajectories for strategy2 to complete\n",
      "<adaptivemd.task.PythonTask object at 0x112623e50>\n",
      "Requiring 62 trajectories for strategy2 to complete\n"
     ]
    },
    {
     "ename": "IndexError",
     "evalue": "list index out of range",
     "output_type": "error",
     "traceback": [
      "\u001b[0;31m---------------------------------------------------------------------------\u001b[0m",
      "\u001b[0;31mIndexError\u001b[0m                                Traceback (most recent call last)",
      "\u001b[0;32m<ipython-input-23-ac3fb0fa3c47>\u001b[0m in \u001b[0;36m<module>\u001b[0;34m()\u001b[0m\n\u001b[1;32m      1\u001b[0m \u001b[0mproject\u001b[0m\u001b[0;34m.\u001b[0m\u001b[0mwait_until\u001b[0m\u001b[0;34m(\u001b[0m\u001b[0mproject\u001b[0m\u001b[0;34m.\u001b[0m\u001b[0mevents_done\u001b[0m\u001b[0;34m)\u001b[0m\u001b[0;34m\u001b[0m\u001b[0m\n\u001b[0;32m----> 2\u001b[0;31m \u001b[0mproject\u001b[0m\u001b[0;34m.\u001b[0m\u001b[0m_events\u001b[0m\u001b[0;34m[\u001b[0m\u001b[0;36m0\u001b[0m\u001b[0;34m]\u001b[0m\u001b[0;34m.\u001b[0m\u001b[0m_finish_conditions\u001b[0m\u001b[0;34m[\u001b[0m\u001b[0;36m0\u001b[0m\u001b[0;34m]\u001b[0m\u001b[0;34m(\u001b[0m\u001b[0;34m)\u001b[0m\u001b[0;34m\u001b[0m\u001b[0m\n\u001b[0m",
      "\u001b[0;31mIndexError\u001b[0m: list index out of range"
     ]
    }
   ],
   "source": [
    "project.wait_until(project.events_done)\n",
    "# Its hard to catch this becuase the _events list\n",
    "# clears when an event's finish_conditions evaluate\n",
    "# to True\n",
    "project._events[0]._finish_conditions[0]()"
   ]
  },
  {
   "cell_type": "code",
   "execution_count": 24,
   "metadata": {},
   "outputs": [],
   "source": [
    "project.workers.all.execute('shutdown')\n",
    "project.close()"
   ]
  },
  {
   "cell_type": "code",
   "execution_count": null,
   "metadata": {},
   "outputs": [],
   "source": []
  }
 ],
 "metadata": {
  "anaconda-cloud": {},
  "kernelspec": {
   "display_name": "Python 2",
   "language": "python",
   "name": "python2"
  },
  "language_info": {
   "codemirror_mode": {
    "name": "ipython",
    "version": 2
   },
   "file_extension": ".py",
   "mimetype": "text/x-python",
   "name": "python",
   "nbconvert_exporter": "python",
   "pygments_lexer": "ipython2",
   "version": "2.7.15"
  }
 },
 "nbformat": 4,
 "nbformat_minor": 1
}
