{
 "cells": [
  {
   "cell_type": "markdown",
   "metadata": {},
   "source": [
    "## Adaptive MD\n",
    "\n",
    "Using __`radical.pilot`__\n",
    "\n",
    "For the NTL9 system"
   ]
  },
  {
   "cell_type": "code",
   "execution_count": 1,
   "metadata": {
    "collapsed": true
   },
   "outputs": [],
   "source": [
    "import os\n",
    "import sys"
   ]
  },
  {
   "cell_type": "code",
   "execution_count": 2,
   "metadata": {
    "collapsed": true
   },
   "outputs": [],
   "source": [
    "# set default verbose level\n",
    "verbose = os.environ.get('RADICAL_PILOT_VERBOSE', 'REPORT')\n",
    "os.environ['RADICAL_PILOT_VERBOSE'] = verbose\n",
    "\n",
    "# set default URL to IMP Mongo DB\n",
    "# path_to_db = os.environ.get(\n",
    "#     'RADICAL_PILOT_DBURL', \"mongodb://ensembletk.imp.fu-berlin.de:27017/rp\")\n",
    "\n",
    "# assume we run a local\n",
    "path_to_db = os.environ.get(\n",
    "    'RADICAL_PILOT_DBURL', \"mongodb://localhost:27017/rp\")\n",
    "\n",
    "os.environ['RADICAL_PILOT_DBURL'] = path_to_db"
   ]
  },
  {
   "cell_type": "code",
   "execution_count": 3,
   "metadata": {},
   "outputs": [
    {
     "name": "stderr",
     "output_type": "stream",
     "text": [
      "/Users/jan-hendrikprinz/anaconda/lib/python2.7/site-packages/radical/utils/atfork/stdlib_fixer.py:58: UserWarning: logging module already imported before fixup.\n",
      "  warnings.warn('logging module already imported before fixup.')\n"
     ]
    }
   ],
   "source": [
    "import radical.pilot as rp\n",
    "import radical.utils as ru"
   ]
  },
  {
   "cell_type": "code",
   "execution_count": 5,
   "metadata": {},
   "outputs": [],
   "source": [
    "# import adaptive components\n",
    "\n",
    "from adaptivemd import OpenMMEngine, AllegroCluster, Brain, MDCluster, \\\n",
    "    LocalCluster, File, NTrajectories\n",
    "import adaptivemd.util as amp"
   ]
  },
  {
   "cell_type": "markdown",
   "metadata": {},
   "source": [
    "#### 1. Select a resource"
   ]
  },
  {
   "cell_type": "markdown",
   "metadata": {},
   "source": [
    "We pick to run on this machine"
   ]
  },
  {
   "cell_type": "code",
   "execution_count": 6,
   "metadata": {
    "collapsed": true
   },
   "outputs": [],
   "source": [
    "resource = LocalCluster(runtime=5, cores=1)"
   ]
  },
  {
   "cell_type": "markdown",
   "metadata": {},
   "source": [
    "We still need to add the necessary path to find the conda installation"
   ]
  },
  {
   "cell_type": "code",
   "execution_count": 7,
   "metadata": {
    "collapsed": true
   },
   "outputs": [],
   "source": [
    "resource.add_path(amp.path_conda_local_jhp)"
   ]
  },
  {
   "cell_type": "code",
   "execution_count": 8,
   "metadata": {},
   "outputs": [
    {
     "name": "stdout",
     "output_type": "stream",
     "text": [
      "\u001b[94m\u001b[1m\n",
      "\u001b[39m\u001b[0m\u001b[94m\u001b[1m================================================================================\n",
      "\u001b[39m\u001b[0m\u001b[94m\u001b[1m Getting Started (RP version v0.44.RC1)                                         \n",
      "\u001b[39m\u001b[0m\u001b[94m\u001b[1m================================================================================\n",
      "\u001b[39m\u001b[0m\u001b[94m\u001b[1m\n",
      "\u001b[39m\u001b[0m"
     ]
    }
   ],
   "source": [
    "# we use a reporter class for nicer output\n",
    "report = ru.LogReporter(name='radical.pilot', level=verbose)\n",
    "report.title('Getting Started (RP version %s)' % rp.version)"
   ]
  },
  {
   "cell_type": "markdown",
   "metadata": {},
   "source": [
    "#### 2. Create the engine"
   ]
  },
  {
   "cell_type": "markdown",
   "metadata": {},
   "source": [
    "pick a file from the currend working directory"
   ]
  },
  {
   "cell_type": "code",
   "execution_count": 9,
   "metadata": {
    "collapsed": true
   },
   "outputs": [],
   "source": [
    "pdb_file = File('file://files/input.pdb')"
   ]
  },
  {
   "cell_type": "code",
   "execution_count": 10,
   "metadata": {
    "collapsed": true
   },
   "outputs": [],
   "source": [
    "engine = OpenMMEngine(\n",
    "    pdb_file=pdb_file,\n",
    "    system_file=File('file://files/system.xml'),\n",
    "    integrator_file=File('file://files/integrator.xml')\n",
    ")"
   ]
  },
  {
   "cell_type": "markdown",
   "metadata": {},
   "source": [
    "#### 3. Create the cluster used"
   ]
  },
  {
   "cell_type": "code",
   "execution_count": 12,
   "metadata": {},
   "outputs": [],
   "source": [
    "cluster = MDCluster(\n",
    "    system='ntl9',\n",
    "    resource=resource,\n",
    "    report=report)"
   ]
  },
  {
   "cell_type": "code",
   "execution_count": 11,
   "metadata": {
    "collapsed": true
   },
   "outputs": [],
   "source": [
    "# add the path to CONDA if now already in the default\n",
    "cluster.add_path(os.environ.get('~/anaconda/bin'))"
   ]
  },
  {
   "cell_type": "markdown",
   "metadata": {},
   "source": [
    "select a strategy aka _brain_"
   ]
  },
  {
   "cell_type": "code",
   "execution_count": 12,
   "metadata": {
    "collapsed": true
   },
   "outputs": [],
   "source": [
    "brain = Brain(cluster)  # this needs to be smarter"
   ]
  },
  {
   "cell_type": "markdown",
   "metadata": {},
   "source": [
    "So let's do it..."
   ]
  },
  {
   "cell_type": "code",
   "execution_count": 13,
   "metadata": {},
   "outputs": [
    {
     "name": "stdout",
     "output_type": "stream",
     "text": [
      "\u001b[94mnew session: \u001b[39m\u001b[0m[rp.session.Stevie.fritz.box.jan-hendrikprinz.017177.0010]\u001b[39m\u001b[0m\u001b[94m        \\\n",
      "database   : \u001b[39m\u001b[0m[mongodb://localhost:27017/rp]\u001b[39m\u001b[0m\u001b[92m                                   ok\n",
      "\u001b[39m\u001b[0m\u001b[94mcreate pilot manager\u001b[39m\u001b[0m\u001b[92m                                                          ok\n",
      "\u001b[39m\u001b[0m\u001b[94mcreate unit manager\u001b[39m\u001b[0m\u001b[92m                                                           ok\n",
      "\u001b[39m\u001b[0m\u001b[93m\u001b[1m\n",
      "\u001b[39m\u001b[0m\u001b[93m\u001b[1m--------------------------------------------------------------------------------\n",
      "\u001b[39m\u001b[0m\u001b[93m\u001b[1msubmit pilots                                                                   \n",
      "\u001b[39m\u001b[0m\u001b[93m\u001b[1m\n",
      "\u001b[39m\u001b[0m\u001b[94mcreate pilot description\u001b[39m\u001b[0m [local.localhost:1]\u001b[39m\u001b[0m\u001b[92m                                  ok\n",
      "\u001b[39m\u001b[0m\u001b[94msubmit 1 pilot(s) \u001b[39m\u001b[0m.\u001b[39m\u001b[0m\u001b[92m                                                           ok\n",
      "\u001b[39m\u001b[0m\u001b[94madd 1 pilot(s)\u001b[39m\u001b[0m\u001b[92m                                                                ok\n",
      "\u001b[39m\u001b[0m\u001b[94mstage shared data from engine\u001b[39m\u001b[0m\u001b[92m                                                 ok\n",
      "\u001b[39m\u001b[0m\u001b[93m\u001b[1m\n",
      "\u001b[39m\u001b[0m\u001b[93m\u001b[1m--------------------------------------------------------------------------------\n",
      "\u001b[39m\u001b[0m\u001b[93m\u001b[1msubmit units                                                                    \n",
      "\u001b[39m\u001b[0m\u001b[93m\u001b[1m\n",
      "\u001b[39m\u001b[0m\u001b[94msubmit 2 unit(s)\n",
      "        \u001b[39m\u001b[0m.\u001b[39m\u001b[0m.\u001b[39m\u001b[0m\u001b[92m                                                                    ok\n",
      "\u001b[39m\u001b[0m* unit unit.000000 (None) state Failed (134) None - None, out/err:  / /Users/jan-hendrikprinz/radical.pilot.sandbox/rp.session.Stevie.fritz.box.jan-hendrikprinz.017177.0010-pilot.0000/unit.000000/radical_pilot_cu_launch_script.sh: line 16: 28466 Abort trap: 6           python \"openmmrun.py\" \"--report-interval\" \"1\" \"-p\" \"CPU\" \"--store-interval\" \"1\" \"-t\" \"initial.pdb\" \"--length\" \"2\" \"output.dcd\"\n",
      "\n",
      "task did not complete\n",
      "\u001b[94msubmit 1 unit(s)\n",
      "        \u001b[39m\u001b[0m.\u001b[39m\u001b[0m\u001b[92m                                                                     ok\n",
      "\u001b[39m\u001b[0m* unit unit.000001 (None) state Failed (134) None - None, out/err:  / /Users/jan-hendrikprinz/radical.pilot.sandbox/rp.session.Stevie.fritz.box.jan-hendrikprinz.017177.0010-pilot.0000/unit.000001/radical_pilot_cu_launch_script.sh: line 16: 28474 Abort trap: 6           python \"openmmrun.py\" \"--report-interval\" \"1\" \"-p\" \"CPU\" \"--store-interval\" \"1\" \"-t\" \"initial.pdb\" \"--length\" \"2\" \"output.dcd\"\n",
      "\n",
      "task did not complete\n",
      "\u001b[94msubmit 1 unit(s)\n",
      "        \u001b[39m\u001b[0m.\u001b[39m\u001b[0m\u001b[92m                                                                     ok\n",
      "\u001b[39m\u001b[0m* unit unit.000002 (None) state Failed (134) None - None, out/err:  / /Users/jan-hendrikprinz/radical.pilot.sandbox/rp.session.Stevie.fritz.box.jan-hendrikprinz.017177.0010-pilot.0000/unit.000002/radical_pilot_cu_launch_script.sh: line 16: 28492 Abort trap: 6           python \"openmmrun.py\" \"--report-interval\" \"1\" \"-p\" \"CPU\" \"--store-interval\" \"1\" \"-t\" \"initial.pdb\" \"--length\" \"2\" \"output.dcd\"\n",
      "\n",
      "task did not complete\n",
      "\u001b[94msubmit 1 unit(s)\n",
      "        \u001b[39m\u001b[0m.\u001b[39m\u001b[0m\u001b[92m                                                                     ok\n",
      "\u001b[39m\u001b[0m\u001b[94msubmit 4 unit(s)\n",
      "        \u001b[39m\u001b[0m.\u001b[39m\u001b[0m.\u001b[39m\u001b[0m.\u001b[39m\u001b[0m.\u001b[39m\u001b[0m\u001b[92m                                                                  ok\n",
      "\u001b[39m\u001b[0m* unit unit.000004 (None) state Failed (134) None - None, out/err:  / /Users/jan-hendrikprinz/radical.pilot.sandbox/rp.session.Stevie.fritz.box.jan-hendrikprinz.017177.0010-pilot.0000/unit.000004/radical_pilot_cu_launch_script.sh: line 16: 29079 Abort trap: 6           python \"openmmrun.py\" \"--report-interval\" \"1\" \"-p\" \"CPU\" \"--store-interval\" \"1\" \"-t\" \"initial.pdb\" \"--length\" \"2\" \"output.dcd\"\n",
      "\n",
      "task did not complete\n",
      "\u001b[94msubmit 1 unit(s)\n",
      "        \u001b[39m\u001b[0m.\u001b[39m\u001b[0m\u001b[92m                                                                     ok\n",
      "\u001b[39m\u001b[0m* unit unit.000007 (None) state Failed (134) None - None, out/err: ['xyz', 'cell_angles', 'cell_lengths', 'topology']\n",
      "converted 1 frames, 14100 atoms \n",
      " / /Users/jan-hendrikprinz/radical.pilot.sandbox/rp.session.Stevie.fritz.box.jan-hendrikprinz.017177.0010-pilot.0000/unit.000007/radical_pilot_cu_launch_script.sh: line 17: 29100 Abort trap: 6           python \"openmmrun.py\" \"--report-interval\" \"1\" \"-p\" \"CPU\" \"--store-interval\" \"1\" \"-t\" \"input.pdb\" \"--length\" \"2\" \"output.dcd\"\n",
      "\n",
      "task did not complete\n",
      "\u001b[94msubmit 1 unit(s)\n",
      "        \u001b[39m\u001b[0m.\u001b[39m\u001b[0m\u001b[92m                                                                     ok\n",
      "\u001b[39m\u001b[0m* unit unit.000009 (None) state Failed (134) None - None, out/err:  / /Users/jan-hendrikprinz/radical.pilot.sandbox/rp.session.Stevie.fritz.box.jan-hendrikprinz.017177.0010-pilot.0000/unit.000009/radical_pilot_cu_launch_script.sh: line 16: 29125 Abort trap: 6           python \"openmmrun.py\" \"--report-interval\" \"1\" \"-p\" \"CPU\" \"--store-interval\" \"1\" \"-t\" \"initial.pdb\" \"--length\" \"2\" \"output.dcd\"\n",
      "\n",
      "task did not complete\n",
      "\u001b[94msubmit 1 unit(s)\n",
      "        \u001b[39m\u001b[0m.\u001b[39m\u001b[0m\u001b[92m                                                                     ok\n",
      "\u001b[39m\u001b[0m* unit unit.000010 (None) state Failed (134) None - None, out/err: ['xyz', 'cell_angles', 'cell_lengths', 'topology']\n",
      "converted 1 frames, 14100 atoms \n",
      " / /Users/jan-hendrikprinz/radical.pilot.sandbox/rp.session.Stevie.fritz.box.jan-hendrikprinz.017177.0010-pilot.0000/unit.000010/radical_pilot_cu_launch_script.sh: line 17: 29176 Abort trap: 6           python \"openmmrun.py\" \"--report-interval\" \"1\" \"-p\" \"CPU\" \"--store-interval\" \"1\" \"-t\" \"input.pdb\" \"--length\" \"2\" \"output.dcd\"\n",
      "\n",
      "task did not complete\n",
      "\u001b[94msubmit 1 unit(s)\n",
      "        \u001b[39m\u001b[0m.\u001b[39m\u001b[0m\u001b[92m                                                                     ok\n",
      "\u001b[39m\u001b[0m* unit unit.000011 (None) state Failed (134) None - None, out/err:  / /Users/jan-hendrikprinz/radical.pilot.sandbox/rp.session.Stevie.fritz.box.jan-hendrikprinz.017177.0010-pilot.0000/unit.000011/radical_pilot_cu_launch_script.sh: line 16: 29183 Abort trap: 6           python \"openmmrun.py\" \"--report-interval\" \"1\" \"-p\" \"CPU\" \"--store-interval\" \"1\" \"-t\" \"initial.pdb\" \"--length\" \"2\" \"output.dcd\"\n",
      "\n",
      "task did not complete\n",
      "\u001b[94msubmit 1 unit(s)\n",
      "        \u001b[39m\u001b[0m.\u001b[39m\u001b[0m\u001b[92m                                                                     ok\n",
      "\u001b[39m\u001b[0m\u001b[94msubmit 4 unit(s)\n",
      "        \u001b[39m\u001b[0m.\u001b[39m\u001b[0m.\u001b[39m\u001b[0m.\u001b[39m\u001b[0m.\u001b[39m\u001b[0m\u001b[92m                                                                  ok\n",
      "\u001b[39m\u001b[0m* unit unit.000013 (None) state Failed (134) None - None, out/err:  / /Users/jan-hendrikprinz/radical.pilot.sandbox/rp.session.Stevie.fritz.box.jan-hendrikprinz.017177.0010-pilot.0000/unit.000013/radical_pilot_cu_launch_script.sh: line 16: 29275 Abort trap: 6           python \"openmmrun.py\" \"--report-interval\" \"1\" \"-p\" \"CPU\" \"--store-interval\" \"1\" \"-t\" \"initial.pdb\" \"--length\" \"2\" \"output.dcd\"\n",
      "\n",
      "task did not complete\n",
      "\u001b[94msubmit 1 unit(s)\n",
      "        \u001b[39m\u001b[0m.\u001b[39m\u001b[0m\u001b[92m                                                                     ok\n",
      "\u001b[39m\u001b[0m* unit unit.000014 (None) state Failed (134) None - None, out/err: ['xyz', 'cell_angles', 'cell_lengths', 'topology']\n",
      "converted 1 frames, 14100 atoms \n",
      " / /Users/jan-hendrikprinz/radical.pilot.sandbox/rp.session.Stevie.fritz.box.jan-hendrikprinz.017177.0010-pilot.0000/unit.000014/radical_pilot_cu_launch_script.sh: line 17: 29290 Abort trap: 6           python \"openmmrun.py\" \"--report-interval\" \"1\" \"-p\" \"CPU\" \"--store-interval\" \"1\" \"-t\" \"input.pdb\" \"--length\" \"2\" \"output.dcd\"\n",
      "\n",
      "task did not complete\n",
      "\u001b[94msubmit 1 unit(s)\n",
      "        \u001b[39m\u001b[0m.\u001b[39m\u001b[0m\u001b[92m                                                                     ok\n",
      "\u001b[39m\u001b[0m* unit unit.000015 (None) state Failed (134) None - None, out/err: ['xyz', 'cell_angles', 'cell_lengths', 'topology']\n",
      "converted 1 frames, 14100 atoms \n",
      " / /Users/jan-hendrikprinz/radical.pilot.sandbox/rp.session.Stevie.fritz.box.jan-hendrikprinz.017177.0010-pilot.0000/unit.000015/radical_pilot_cu_launch_script.sh: line 17: 29299 Abort trap: 6           python \"openmmrun.py\" \"--report-interval\" \"1\" \"-p\" \"CPU\" \"--store-interval\" \"1\" \"-t\" \"input.pdb\" \"--length\" \"2\" \"output.dcd\"\n",
      "\n",
      "task did not complete\n",
      "\u001b[94msubmit 1 unit(s)\n",
      "        \u001b[39m\u001b[0m.\u001b[39m\u001b[0m\u001b[92m                                                                     ok\n",
      "\u001b[39m\u001b[0m* unit unit.000017 (None) state Failed (134) None - None, out/err: ['xyz', 'cell_angles', 'cell_lengths', 'topology']\n",
      "converted 1 frames, 14100 atoms \n",
      " / /Users/jan-hendrikprinz/radical.pilot.sandbox/rp.session.Stevie.fritz.box.jan-hendrikprinz.017177.0010-pilot.0000/unit.000017/radical_pilot_cu_launch_script.sh: line 17: 29341 Abort trap: 6           python \"openmmrun.py\" \"--report-interval\" \"1\" \"-p\" \"CPU\" \"--store-interval\" \"1\" \"-t\" \"input.pdb\" \"--length\" \"2\" \"output.dcd\"\n",
      "\n",
      "task did not complete\n",
      "\u001b[94msubmit 1 unit(s)\n",
      "        \u001b[39m\u001b[0m.\u001b[39m\u001b[0m\u001b[92m                                                                     ok\n",
      "\u001b[39m\u001b[0m* unit unit.000018 (None) state Failed (134) None - None, out/err:  / /Users/jan-hendrikprinz/radical.pilot.sandbox/rp.session.Stevie.fritz.box.jan-hendrikprinz.017177.0010-pilot.0000/unit.000018/radical_pilot_cu_launch_script.sh: line 16: 29347 Abort trap: 6           python \"openmmrun.py\" \"--report-interval\" \"1\" \"-p\" \"CPU\" \"--store-interval\" \"1\" \"-t\" \"initial.pdb\" \"--length\" \"2\" \"output.dcd\"\n",
      "\n",
      "task did not complete\n",
      "\u001b[94msubmit 1 unit(s)\n",
      "        \u001b[39m\u001b[0m.\u001b[39m\u001b[0m\u001b[92m                                                                     ok\n",
      "\u001b[39m\u001b[0m* unit unit.000020 (None) state Failed (134) None - None, out/err: ['xyz', 'cell_angles', 'cell_lengths', 'topology']\n",
      "converted 1 frames, 14100 atoms \n",
      " / /Users/jan-hendrikprinz/radical.pilot.sandbox/rp.session.Stevie.fritz.box.jan-hendrikprinz.017177.0010-pilot.0000/unit.000020/radical_pilot_cu_launch_script.sh: line 17: 29362 Abort trap: 6           python \"openmmrun.py\" \"--report-interval\" \"1\" \"-p\" \"CPU\" \"--store-interval\" \"1\" \"-t\" \"input.pdb\" \"--length\" \"2\" \"output.dcd\"\n",
      "\n",
      "task did not complete\n",
      "\u001b[94msubmit 1 unit(s)\n",
      "        \u001b[39m\u001b[0m.\u001b[39m\u001b[0m\u001b[92m                                                                     ok\n",
      "\u001b[39m\u001b[0m* unit unit.000021 (None) state Failed (134) None - None, out/err: ['xyz', 'cell_angles', 'cell_lengths', 'topology']\n",
      "converted 1 frames, 14100 atoms \n",
      " / /Users/jan-hendrikprinz/radical.pilot.sandbox/rp.session.Stevie.fritz.box.jan-hendrikprinz.017177.0010-pilot.0000/unit.000021/radical_pilot_cu_launch_script.sh: line 17: 29371 Abort trap: 6           python \"openmmrun.py\" \"--report-interval\" \"1\" \"-p\" \"CPU\" \"--store-interval\" \"1\" \"-t\" \"input.pdb\" \"--length\" \"2\" \"output.dcd\"\n",
      "\n",
      "task did not complete\n",
      "\u001b[94msubmit 1 unit(s)\n",
      "        \u001b[39m\u001b[0m.\u001b[39m\u001b[0m\u001b[92m                                                                     ok\n",
      "\u001b[39m\u001b[0m\u001b[93m\u001b[1m\n",
      "\u001b[39m\u001b[0m\u001b[93m\u001b[1m--------------------------------------------------------------------------------\n",
      "\u001b[39m\u001b[0m\u001b[93m\u001b[1mfinalize                                                                        \n",
      "\u001b[39m\u001b[0m\u001b[93m\u001b[1m\n",
      "\u001b[39m\u001b[0m\u001b[94mclosing session rp.session.Stevie.fritz.box.jan-hendrikprinz.017177.0010\u001b[39m\u001b[0m\u001b[94m       \\\n",
      "close pilot manager\u001b[39m\u001b[0mO\u001b[39m\u001b[0m\b |\u001b[39m\u001b[0m\b-\u001b[39m\u001b[0m\b\\\u001b[39m\u001b[0m\b|\u001b[39m\u001b[0m\b/\u001b[39m\u001b[0m\b-\u001b[39m\u001b[0m\b\\\u001b[39m\u001b[0m\b|\u001b[39m\u001b[0m\b/\u001b[39m\u001b[0m\b-\u001b[39m\u001b[0m\b\\\u001b[39m\u001b[0m\b|\u001b[39m\u001b[0m\b/\u001b[39m\u001b[0m\b-\u001b[39m\u001b[0m\b\\\u001b[39m\u001b[0m\b|\u001b[39m\u001b[0m\b/\u001b[39m\u001b[0m\b-\u001b[39m\u001b[0m\b\\\u001b[39m\u001b[0m\b|\u001b[39m\u001b[0m\b/\u001b[39m\u001b[0m\b-\u001b[39m\u001b[0m\b\\\u001b[39m\u001b[0m\b|\u001b[39m\u001b[0m\b/\u001b[39m\u001b[0m\b-\u001b[39m\u001b[0m\b\\\u001b[39m\u001b[0m\b|\u001b[39m\u001b[0m\b \u001b[39m\u001b[0m\u001b[94m                                                          \\\n",
      "wait for 1 pilot(s) \u001b[39m\u001b[0mO\u001b[39m\u001b[0m\b/\u001b[39m\u001b[0m\u001b[93m\b*|\u001b[39m\u001b[0m\b \u001b[39m\u001b[0m\u001b[92m                                                        ok\n",
      "\u001b[39m\u001b[0m\u001b[92m                                                                              ok\n",
      "\u001b[39m\u001b[0m\u001b[94mclose unit manager\u001b[39m\u001b[0m\u001b[92m                                                            ok\n",
      "\u001b[39m\u001b[0m\u001b[94msession lifetime: 265.2s\u001b[39m\u001b[0m\u001b[92m                                                      ok\n",
      "\u001b[39m\u001b[0m\u001b[93m\u001b[1m\n",
      "\u001b[39m\u001b[0m\u001b[93m\u001b[1m--------------------------------------------------------------------------------\n",
      "\u001b[39m\u001b[0m\u001b[93m\u001b[1mgenerated new trajectories                                                      \n",
      "\u001b[39m\u001b[0m\u001b[93m\u001b[1m\n",
      "\u001b[39m\u001b[0m\u001b[94mTrajectory('staging:///ntl9/ntl9-4.dcd', Trajectory('staging:///ntl9/ntl9-1.dcd', file:///Users/jan-hendrikprinz/Studium/git/adaptive-sampling/package/examples/ntl9/files/input.pdb -> [2])[1] -> [2])\n",
      "        \u001b[39m\u001b[0m\u001b[94mTrajectory('staging:///ntl9/ntl9-3.dcd', Trajectory('staging:///ntl9/ntl9-1.dcd', file:///Users/jan-hendrikprinz/Studium/git/adaptive-sampling/package/examples/ntl9/files/input.pdb -> [2])[1] -> [2])\n",
      "        \u001b[39m\u001b[0m\u001b[94mTrajectory('staging:///ntl9/ntl9-8.dcd', Trajectory('staging:///ntl9/ntl9-3.dcd', Trajectory('staging:///ntl9/ntl9-1.dcd', file:///Users/jan-hendrikprinz/Studium/git/adaptive-sampling/package/examples/ntl9/files/input.pdb -> [2])[1] -> [2])[0] -> [2])\n",
      "        \u001b[39m\u001b[0m\u001b[94mTrajectory('staging:///ntl9/ntl9-6.dcd', Trajectory('staging:///ntl9/ntl9-3.dcd', Trajectory('staging:///ntl9/ntl9-1.dcd', file:///Users/jan-hendrikprinz/Studium/git/adaptive-sampling/package/examples/ntl9/files/input.pdb -> [2])[1] -> [2])[1] -> [2])\n",
      "        \u001b[39m\u001b[0m\u001b[94mTrajectory('staging:///ntl9/ntl9-0.dcd', file:///Users/jan-hendrikprinz/Studium/git/adaptive-sampling/package/examples/ntl9/files/input.pdb -> [2])\n",
      "        \u001b[39m\u001b[0m\u001b[94mTrajectory('staging:///ntl9/ntl9-1.dcd', file:///Users/jan-hendrikprinz/Studium/git/adaptive-sampling/package/examples/ntl9/files/input.pdb -> [2])\n",
      "        \u001b[39m\u001b[0m\u001b[94mTrajectory('staging:///ntl9/ntl9-5.dcd', Trajectory('staging:///ntl9/ntl9-1.dcd', file:///Users/jan-hendrikprinz/Studium/git/adaptive-sampling/package/examples/ntl9/files/input.pdb -> [2])[0] -> [2])\n",
      "        \u001b[39m\u001b[0m\u001b[94mTrajectory('staging:///ntl9/ntl9-2.dcd', Trajectory('staging:///ntl9/ntl9-1.dcd', file:///Users/jan-hendrikprinz/Studium/git/adaptive-sampling/package/examples/ntl9/files/input.pdb -> [2])[0] -> [2])\n",
      "        \u001b[39m\u001b[0m\u001b[93m\u001b[1m\n",
      "\u001b[39m\u001b[0m\u001b[93m\u001b[1m--------------------------------------------------------------------------------\n",
      "\u001b[39m\u001b[0m\u001b[93m\u001b[1m\u001b[39m\u001b[0m\u001b[93m\u001b[1m\n",
      "\u001b[39m\u001b[0m"
     ]
    }
   ],
   "source": [
    "with cluster:\n",
    "    report.ok('>>ok\\n')\n",
    "\n",
    "    report.header('submit units')\n",
    "\n",
    "    trajs = [\n",
    "        cluster.get_new_trajectory_file(pdb_file, 2)\n",
    "        for x in range(2)\n",
    "    ]\n",
    "\n",
    "    # submit the trajectories\n",
    "    cluster.submit_trajectories(trajs)\n",
    "\n",
    "    # Run immediately 4 more trajectories\n",
    "    event = DoMoreTrajectories(\n",
    "        when=NTrajectories(cluster, 1),\n",
    "        unless=NTrajectories(cluster, 8),\n",
    "        number=4,\n",
    "        length=2\n",
    "    )\n",
    "    cluster.add_event(event)\n",
    "    cluster.wait()\n",
    "\n",
    "report.header('generated new trajectories')\n",
    "\n",
    "for f in cluster.files:\n",
    "    report.info(repr(f) + '\\n\\t')\n",
    "\n",
    "report.header()"
   ]
  },
  {
   "cell_type": "code",
   "execution_count": 16,
   "metadata": {},
   "outputs": [
    {
     "data": {
      "text/plain": [
       "8"
      ]
     },
     "execution_count": 16,
     "metadata": {},
     "output_type": "execute_result"
    }
   ],
   "source": [
    "len(cluster.files)"
   ]
  },
  {
   "cell_type": "code",
   "execution_count": null,
   "metadata": {
    "collapsed": true
   },
   "outputs": [],
   "source": []
  }
 ],
 "metadata": {
  "anaconda-cloud": {},
  "kernelspec": {
   "display_name": "Python 3",
   "language": "python",
   "name": "python3"
  },
  "language_info": {
   "codemirror_mode": {
    "name": "ipython",
    "version": 3
   },
   "file_extension": ".py",
   "mimetype": "text/x-python",
   "name": "python",
   "nbconvert_exporter": "python",
   "pygments_lexer": "ipython3",
   "version": "3.6.1"
  }
 },
 "nbformat": 4,
 "nbformat_minor": 1
}
